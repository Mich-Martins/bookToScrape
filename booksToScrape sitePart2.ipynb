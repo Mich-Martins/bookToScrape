{
 "cells": [
  {
   "cell_type": "markdown",
   "id": "b08b36d1",
   "metadata": {},
   "source": [
    "# BooksToScrape Part2\n",
    "\n",
    "### Objective:\n",
    "The purpose of the project is to scape the given site for learning purpose.\n",
    "\n",
    "### Project Idea\n",
    "Scrape the name of the book and the price of the book from the given site and saving the data into a csv file using the requests, BeautifulSoup, csv and/or pandas libraries."
   ]
  },
  {
   "cell_type": "code",
   "execution_count": 1,
   "id": "9da9e76b",
   "metadata": {},
   "outputs": [],
   "source": [
    "import requests\n",
    "from bs4 import BeautifulSoup\n",
    "import csv\n",
    "#Alternatively\n",
    "import pandas as pd"
   ]
  },
  {
   "cell_type": "code",
   "execution_count": 2,
   "id": "95862c28",
   "metadata": {},
   "outputs": [],
   "source": [
    "# URL of the website to scrape.\n",
    "url = 'https://books.toscrape.com/catalogue/category/books/classics_6/index.html'"
   ]
  },
  {
   "cell_type": "code",
   "execution_count": 3,
   "id": "27a1fc57",
   "metadata": {},
   "outputs": [
    {
     "data": {
      "text/plain": [
       "'https://books.toscrape.com/catalogue/category/books/classics_6/index.html'"
      ]
     },
     "execution_count": 3,
     "metadata": {},
     "output_type": "execute_result"
    }
   ],
   "source": [
    "# calling the variable\n",
    "url"
   ]
  },
  {
   "cell_type": "code",
   "execution_count": 4,
   "id": "8517303c",
   "metadata": {},
   "outputs": [],
   "source": [
    "# Sending a GET request to the website\n",
    "response = requests.get(url)"
   ]
  },
  {
   "cell_type": "code",
   "execution_count": 5,
   "id": "459962f5",
   "metadata": {},
   "outputs": [],
   "source": [
    "# creating a variable to access the document type\n",
    "html = response.text"
   ]
  },
  {
   "cell_type": "code",
   "execution_count": 6,
   "id": "10fd621c",
   "metadata": {},
   "outputs": [],
   "source": [
    "# Parsing the HTML content of the page\n",
    "soup = BeautifulSoup(html, 'html.parser')"
   ]
  },
  {
   "cell_type": "code",
   "execution_count": 9,
   "id": "3ade5234",
   "metadata": {},
   "outputs": [
    {
     "data": {
      "text/plain": [
       "[<article class=\"product_pod\">\n",
       " <div class=\"image_container\">\n",
       " <a href=\"../../../the-secret-garden_413/index.html\"><img alt=\"The Secret Garden\" class=\"thumbnail\" src=\"../../../../media/cache/c5/46/c5465a06182ed6ebfa40d049258a2f58.jpg\"/></a>\n",
       " </div>\n",
       " <p class=\"star-rating Four\">\n",
       " <i class=\"icon-star\"></i>\n",
       " <i class=\"icon-star\"></i>\n",
       " <i class=\"icon-star\"></i>\n",
       " <i class=\"icon-star\"></i>\n",
       " <i class=\"icon-star\"></i>\n",
       " </p>\n",
       " <h3><a href=\"../../../the-secret-garden_413/index.html\" title=\"The Secret Garden\">The Secret Garden</a></h3>\n",
       " <div class=\"product_price\">\n",
       " <p class=\"price_color\">Â£15.08</p>\n",
       " <p class=\"instock availability\">\n",
       " <i class=\"icon-ok\"></i>\n",
       "     \n",
       "         In stock\n",
       "     \n",
       " </p>\n",
       " <form>\n",
       " <button class=\"btn btn-primary btn-block\" data-loading-text=\"Adding...\" type=\"submit\">Add to basket</button>\n",
       " </form>\n",
       " </div>\n",
       " </article>]"
      ]
     },
     "execution_count": 9,
     "metadata": {},
     "output_type": "execute_result"
    }
   ],
   "source": [
    "# Locating where the book container and extracting the information\n",
    "book_container = soup.find_all('article', class_='product_pod')\n",
    "book_container[0:1]"
   ]
  },
  {
   "cell_type": "code",
   "execution_count": 10,
   "id": "9ba30462",
   "metadata": {},
   "outputs": [
    {
     "data": {
      "text/plain": [
       "19"
      ]
     },
     "execution_count": 10,
     "metadata": {},
     "output_type": "execute_result"
    }
   ],
   "source": [
    "# Checking the total number of containers\n",
    "len(book_container)"
   ]
  },
  {
   "cell_type": "code",
   "execution_count": 11,
   "id": "c0ae26d1",
   "metadata": {},
   "outputs": [],
   "source": [
    "# Looping throught each book container and extracting information\n",
    "\n",
    "masterList = []\n",
    "\n",
    "for book in book_container:\n",
    "    book_data = {}\n",
    "    book_data['Title'] = book.h3.a['title']\n",
    "    book_data['Price'] = book.select('div p.price_color')[0].text.strip('Â')\n",
    "    masterList.append(book_data)"
   ]
  },
  {
   "cell_type": "code",
   "execution_count": 12,
   "id": "3ee194a2",
   "metadata": {},
   "outputs": [
    {
     "data": {
      "text/plain": [
       "[{'Title': 'The Secret Garden', 'Price': '£15.08'},\n",
       " {'Title': 'The Metamorphosis', 'Price': '£28.58'},\n",
       " {'Title': \"The Pilgrim's Progress\", 'Price': '£50.26'},\n",
       " {'Title': 'The Hound of the Baskervilles (Sherlock Holmes #5)',\n",
       "  'Price': '£14.82'}]"
      ]
     },
     "execution_count": 12,
     "metadata": {},
     "output_type": "execute_result"
    }
   ],
   "source": [
    "masterList[0:4]"
   ]
  },
  {
   "cell_type": "code",
   "execution_count": 13,
   "id": "d578ecbd",
   "metadata": {},
   "outputs": [],
   "source": [
    "df = pd.DataFrame(masterList)"
   ]
  },
  {
   "cell_type": "code",
   "execution_count": 14,
   "id": "d619491c",
   "metadata": {},
   "outputs": [
    {
     "data": {
      "text/html": [
       "<div>\n",
       "<style scoped>\n",
       "    .dataframe tbody tr th:only-of-type {\n",
       "        vertical-align: middle;\n",
       "    }\n",
       "\n",
       "    .dataframe tbody tr th {\n",
       "        vertical-align: top;\n",
       "    }\n",
       "\n",
       "    .dataframe thead th {\n",
       "        text-align: right;\n",
       "    }\n",
       "</style>\n",
       "<table border=\"1\" class=\"dataframe\">\n",
       "  <thead>\n",
       "    <tr style=\"text-align: right;\">\n",
       "      <th></th>\n",
       "      <th>Title</th>\n",
       "      <th>Price</th>\n",
       "    </tr>\n",
       "  </thead>\n",
       "  <tbody>\n",
       "    <tr>\n",
       "      <th>0</th>\n",
       "      <td>The Secret Garden</td>\n",
       "      <td>£15.08</td>\n",
       "    </tr>\n",
       "    <tr>\n",
       "      <th>1</th>\n",
       "      <td>The Metamorphosis</td>\n",
       "      <td>£28.58</td>\n",
       "    </tr>\n",
       "    <tr>\n",
       "      <th>2</th>\n",
       "      <td>The Pilgrim's Progress</td>\n",
       "      <td>£50.26</td>\n",
       "    </tr>\n",
       "  </tbody>\n",
       "</table>\n",
       "</div>"
      ],
      "text/plain": [
       "                    Title   Price\n",
       "0       The Secret Garden  £15.08\n",
       "1       The Metamorphosis  £28.58\n",
       "2  The Pilgrim's Progress  £50.26"
      ]
     },
     "execution_count": 14,
     "metadata": {},
     "output_type": "execute_result"
    }
   ],
   "source": [
    "df[0:3]"
   ]
  },
  {
   "cell_type": "code",
   "execution_count": null,
   "id": "c271cc9c",
   "metadata": {},
   "outputs": [],
   "source": [
    "df.to_csv('books_')"
   ]
  }
 ],
 "metadata": {
  "kernelspec": {
   "display_name": "Python 3 (ipykernel)",
   "language": "python",
   "name": "python3"
  },
  "language_info": {
   "codemirror_mode": {
    "name": "ipython",
    "version": 3
   },
   "file_extension": ".py",
   "mimetype": "text/x-python",
   "name": "python",
   "nbconvert_exporter": "python",
   "pygments_lexer": "ipython3",
   "version": "3.11.5"
  }
 },
 "nbformat": 4,
 "nbformat_minor": 5
}
